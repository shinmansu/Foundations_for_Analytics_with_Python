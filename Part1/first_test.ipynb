{
 "cells": [
  {
   "cell_type": "code",
   "execution_count": 24,
   "metadata": {},
   "outputs": [
    {
     "name": "stdout",
     "output_type": "stream",
     "text": [
      "0 : mansu\n",
      "1 : chulsu\n",
      "2 : pig\n",
      "3 : dog\n",
      "4 : banana\n",
      "5 : brain\n",
      "6 : bold\n",
      "7 : birth\n",
      "8 : chiken\n",
      "9 : cocktale\n",
      "10 : clone\n",
      "11 : cool\n"
     ]
    }
   ],
   "source": [
    "# 새로운 파이썬 스크립트를 만들고, 세 가지 다른 리스트를 만들고, 각 리스트를 합쳐보자. \n",
    "# 그 다음 for문과 각 리스트를 반복할 위치 인덱스(즉 range(len()))를 이용하여 화면에 리스트의 인덱스와 해당하는 값을 출력해보자\n",
    "\n",
    "a_list = ['mansu', 'chulsu', 'pig', 'dog']\n",
    "b_list = ['banana', 'brain', 'bold', 'birth']\n",
    "c_list = ['chiken', 'cocktale', 'clone', 'cool']\n",
    "\n",
    "sum_list = a_list + b_list + c_list \n",
    "\n",
    "for i in range(len(sum_list)):\n",
    "    print(\"{0!s} : {1:s}\".format(i,sum_list[i]))"
   ]
  },
  {
   "cell_type": "code",
   "execution_count": 40,
   "metadata": {},
   "outputs": [
    {
     "ename": "SyntaxError",
     "evalue": "invalid syntax (<ipython-input-40-3b6dbf6af51c>, line 22)",
     "output_type": "error",
     "traceback": [
      "\u001b[1;36m  File \u001b[1;32m\"<ipython-input-40-3b6dbf6af51c>\"\u001b[1;36m, line \u001b[1;32m22\u001b[0m\n\u001b[1;33m    dic.update({[key_list[j]:value_list[j]})\u001b[0m\n\u001b[1;37m                            ^\u001b[0m\n\u001b[1;31mSyntaxError\u001b[0m\u001b[1;31m:\u001b[0m invalid syntax\n"
     ]
    }
   ],
   "source": [
    "# 새로운 파이썬 스크립트를 만들고, 동일한 길이를 가진 리스트 두 개를 만든다. 이 중 하나의 리스트에는 서로 고유한 문자열을 넣고, \n",
    "# 빈 딕셔너리를 하나 추가로 만든다. 그 다음 for문과 위치 인덱스, 그리고 고유한 문자열을 지닌 리스트의 각 값들이 이미 딕셔너리에 있는\n",
    "# 키인지 확인하는 if문을 작성한다. 만약 딕셔너리에 없는 문자열이라면, 딕셔너리에 키를 저장하고, 동일한 위치에 있는 다른 리스트의\n",
    "# 값을 해당 키와 연관된 값으로 추가한다. 마지막으로 화면에 딕셔너리의 키와 각 연관된 값을 출력한다.\n",
    "\n",
    "key_list = ['a','b','c']\n",
    "value_list = ['mansu','chulsu','sookyung']\n",
    "\n",
    "dic = {}\n",
    "\n",
    "        \n",
    "        \n",
    "# dic에 key_list의 key 값이 이미 있는지 체크한다. \n",
    "for j in  range(len(key_list)):\n",
    "# keylist 를 돌려\n",
    "    for k in dic:\n",
    "        if key_list[i] != k:\n",
    "            Same_check = True\n",
    "            # dic 값에 list에 있는 데이터가 있는지 확인(반복문을 이용해서 확인)\n",
    "        else:\n",
    "            print('hi')\n",
    "    dic.update({[key_list[j]:value_list[j]})\n",
    "    # dic에 key_list의 [i] 값과 value_list의 [i] 값을 추가한다. \n",
    "\n",
    "pritn dic\n",
    "# dic을 출력한다.                 \n",
    "# 데이터를 넣어줘                         "
   ]
  },
  {
   "cell_type": "code",
   "execution_count": null,
   "metadata": {
    "collapsed": true
   },
   "outputs": [],
   "source": [
    "\\\n",
    "\n",
    "\n",
    "\n",
    "'''새로운 파이썬 스크립트를 만들고 , 동일한 길이의 리스트들로 구성된 리스트를 하나 만든다. \n",
    "이 리스트로 된 리스트를 반복처리하기 위해 1.7.2절에서 작성한 코드를 수정해보자. 그 다음 각 리스트에 있는 값을\n",
    "쉼표로 구분하되 마지막 값 뒤에는 개행문자를 붙여 화면에 출력해보자.'''"
   ]
  }
 ],
 "metadata": {
  "kernelspec": {
   "display_name": "Python 3",
   "language": "python",
   "name": "python3"
  },
  "language_info": {
   "codemirror_mode": {
    "name": "ipython",
    "version": 3
   },
   "file_extension": ".py",
   "mimetype": "text/x-python",
   "name": "python",
   "nbconvert_exporter": "python",
   "pygments_lexer": "ipython3",
   "version": "3.6.3"
  }
 },
 "nbformat": 4,
 "nbformat_minor": 2
}
