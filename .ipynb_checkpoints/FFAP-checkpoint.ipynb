{
 "cells": [
  {
   "cell_type": "code",
   "execution_count": 17,
   "metadata": {},
   "outputs": [
    {
     "name": "stdout",
     "output_type": "stream",
     "text": [
      "Output #1: I'm excited to learn Python\n",
      "Output #2: Four plus five equals 9.\n",
      "Output #3: [1, 2, 3, 4], ['first', 'second', 'third', 'fourth'], [1, 2, 3, 4, 'first', 'second', 'third', 'fourth']\n",
      "Output #4: 9\n",
      "Output #5: 81\n",
      "Output #6: 4.0\n",
      "Output #7: 74.185\n",
      "Output #8: 12.0\n",
      "Output #9: 2.67\n",
      "Output #10: 2.6667\n",
      "Output #11: 20.0855\n",
      "Output #12: 1.39\n",
      "Output #13: 9.0\n",
      "Output #14: I'm enjoying learning Python.\n",
      "Output #15: This is a long string. without the backslashit would run off of the page on the right in the text editor and be verydifficult to read and edit. By using the backslash you can split the longstring into smaller strings on separate lines so that the whole string is easyto view in teh text editor\n",
      "Output #16: You can use triple single quotes for multi-line content strings.\n",
      "Output #17: You can also use triple double quotes for multi-line contetn strings.\n",
      "Output #18: This is ashort string\n",
      "Output #19: she is very very very very beautiful.\n",
      "Output #20: 21\n",
      "Output #21: ['My', 'deliverable', 'is', 'due', 'in', 'May']\n",
      "Output #22: FIRST PIECE:My SECOND PIECE:deliverable THIRD PIECE:is due in May\n",
      "Output #23: ['Your', 'dliverabe', 'is', 'due', 'in', 'june']\n",
      "Output #24: dliverabe june june\n",
      "Output #25: Your,dliverabe,is,due,in,june\n",
      "Output #26: string3:  Remove Unwanted characters from this string.\t\t   \n",
      "\n",
      "Output #27: string3: Remove Unwanted characters from this string.\t\t   \n",
      "\n",
      "Output #28: string3:  Remove Unwanted characters from this string.\n",
      "Output #29: string3: Remove Unwanted characters from this string.\n",
      "Output #30: $$Here's another striong that has unwanted characters.__---++\n",
      "Output #31: The unwanted charactershave been removed.\n",
      "Output #32: (with!@!):Let's!@!replace!@!the!@!spaces!@!in!@!this!@!sentnece!@!wiht!@!ohter!@!characters.\n",
      "Output #33: (with commas):Let's, replace, the, spaces, in, this, sentnece, wiht, ohter, characters.\n",
      "Output #34: here's what happens when you use lower\n",
      "Output #35: HERE'S WHAT HAPPENS WHEN YOU USE UPPER\n",
      "Output #36: Here's what happens when you use capiltalize\n",
      "Output #37 (on each word):\n",
      "Let's\n",
      "Replace\n",
      "The\n",
      "Spaces\n",
      "In\n",
      "This\n",
      "Sentnece\n",
      "Wiht\n",
      "Ohter\n",
      "Characters.\n",
      "Output #38: 2\n",
      "Output #39:\n",
      "The\n",
      "the\n",
      "Output #40: a quick brown fox jumps over a lazy dog.\n",
      "Output #41: today:2017-12-28\n",
      "Output #42: 2017\n",
      "Output #43: 12\n",
      "Output #44: 28\n",
      "Output #45: 2017-12-28 08:47:07.528255\n",
      "Output #46: yesterday: 2017-12-27\n",
      "Output #47: -1 57600\n",
      "Output #48: 1 day, 0:00:00\n",
      "Output #49: 1\n",
      "Output #50: 12/28/2017\n",
      "Output #51: Dec 28, 2017\n",
      "Output #52: 2017-12-28\n",
      "Output #53: December 28, 2017\n",
      "Output #54: 2017-12-28 00:00:00)\n",
      "Output #55: 2017-12-28 00:00:00)\n",
      "Output #56: 2017-12-28\n",
      "Output #57: 2017-12-28\n",
      "Output #58: [1, 2, 3]\n",
      "Output #59: a_list has 3 elements\n",
      "Output #60: the maximum value in a_list is 3\n",
      "Output #61: the minimum value in a_list is 1\n",
      "Output #62: ['printer', 5, ['star', 'circle', 9]]\n",
      "Output #63: another_list also has 3 elements\n",
      "Output #64: 5 is in another_list 1 time.\n",
      "Output #65: 1\n",
      "Output #66: 2\n",
      "Output #67: 3\n",
      "Output #68: 3\n",
      "Output #69: 2\n",
      "Output #70: 1\n",
      "Output #71: ['star', 'circle', 9]\n",
      "Output #72: ['star', 'circle', 9]\n",
      "Output #73: [1, 2]\n",
      "Output #74: ['printer', 5]\n",
      "Output #75: [2, 3]\n",
      "Output #76: [5, ['star', 'circle', 9]]\n",
      "Output #77: [1, 2, 3]\n",
      "Output #78: [1, 2, 3, 'printer', 5, ['star', 'circle', 9]]\n",
      "Output #79: True\n",
      "Output #80: 2 is in [1, 2, 3]\n",
      "Output #81: 6 is not in[1, 2, 3]\n",
      "Output #83: [1, 2, 3, 4, 5, 6]\n",
      "Output #84: [1, 2, 3, 4, 6]\n",
      "Output #85: [1, 2, 3]\n",
      "Output #86: [3, 2, 1]\n",
      "Output #87: [1, 2, 3]\n"
     ]
    }
   ],
   "source": [
    "from math import exp, log, sqrt\n",
    "import re\n",
    "from datetime import date, time, datetime, timedelta\n",
    "from operator import itemgetter \n",
    "import numpy as np\n",
    "import sys\n",
    "import glob\n",
    "import os\n",
    "\n",
    "print(\"Output #1: I'm excited to learn Python\")\n",
    "\n",
    "# 두 수를 더한다\n",
    "x = 4\n",
    "y = 5\n",
    "z = x + y\n",
    "print(\"Output #2: Four plus five equals {0:d}.\".format(z))\n",
    "\n",
    "# 두 리스트를 더한다\n",
    "a = [1, 2, 3, 4]\n",
    "b = [\"first\", \"second\", \"third\", \"fourth\"]\n",
    "c = a + b\n",
    "print(\"Output #3: {0}, {1}, {2}\".format(a, b, c))\n",
    "\n",
    "# 정수\n",
    "x = 9\n",
    "print(\"Output #4: {0}\".format(x))\n",
    "print(\"Output #5: {0}\".format(3**4))\n",
    "# 3의 4제곱이다. [제곱할 수]**[제곱할 횟수]\n",
    "print(\"Output #6: {0}\".format(int(8.3)/int(2.7)))\n",
    "\n",
    "# 실수\n",
    "# 실수를 float라고 한다. .f는 소수점 몇 자리까지 표현할지를 결정한다.\n",
    "print(\"Output #7: {0:.3f}\".format(200.3/2.7))\n",
    "y = 2.5*4.8\n",
    "print(\"Output #8: {0:.1f}\".format(y))\n",
    "r = 8 / float(3)\n",
    "print(\"Output #9: {0:.2f}\".format(r))\n",
    "print(\"Output #10: {0:.4f}\".format(8.0/3))\n",
    "\n",
    "from math import exp, log, sqrt\n",
    "# 메스 모듈값을 가져온다.\n",
    "\n",
    "print(\"Output #11: {0:.4f}\".format(exp(3)))\n",
    "print(\"Output #12: {0:.2f}\".format(log(4)))\n",
    "print(\"Output #13: {0:.1f}\".format(sqrt(81)))\n",
    "\n",
    "# 문자열(string)\n",
    "print(\"Output #14: {0:s}\".format('I\\'m enjoying learning Python.'))\n",
    "\n",
    "print(\"Output #15: {0:s}\".format(\"This is a long string. without the backslash\\\n",
    "it would run off of the page on the right in the text editor and be very\\\n",
    "difficult to read and edit. By using the backslash you can split the long\\\n",
    "string into smaller strings on separate lines so that the whole string is easy\\\n",
    "to view in teh text editor\"))\n",
    "# /를 이용하여 한 번에 긴 문장을 작성한다. 엔터키를 포함하지 않는다는 특성을 가진다(개행 x)\n",
    "print(\"Output #16: {0:s}\".format('''You can use triple single quotes for multi-line content strings.'''))\n",
    "# '''나 \"\"\"는 엔터키도 인식한다. 만약 엔터키를 포함해야만 한다면 '''나 \"\"\"를 활용하자\n",
    "print(\"Output #17: {0:s}\".format(\"\"\"You can also use triple double quotes for multi-line contetn strings.\"\"\"))\n",
    "\n",
    "# 함수 +,*,len\n",
    "string1 = \"This is a\"\n",
    "string2 = \"short string\"\n",
    "sentence = string1 + string2\n",
    "print(\"Output #18: {0:s}\".format(sentence))\n",
    "print(\"Output #19: {0:s} {1:s}{2:s}\".format(\"she is\",\"very \"*4, \"beautiful.\"))\n",
    "# *을 단순히 반복되기 때문에 띄워쓰기를 신경써줘야 한다.\n",
    "m = len(sentence)\n",
    "# len은 띄워쓰기도 초함해서 글자수를 세는가? - 공백문자나 마침표를 포함해서 글자수를 센다.\n",
    "print(\"Output #20: {0:d}\".format(m))\n",
    "\n",
    "# split - 문자열을 나눌 때 사용하는 함수\n",
    "string1 = \"My deliverable is due in May\"\n",
    "string1_list1 = string1.split()\n",
    "string1_list2 = string1.split(\" \", 2)\n",
    "# split(\"분할 기준\", 분할 횟수) /분할 횟수 +1이 총 분할되는 갯수이다. 2개로 나누결우 3개로 분할된다. / \"\"혹은 ''으로 감싸도 상관없다\n",
    "print(\"Output #21: {0}\".format(string1_list1))\n",
    "print(\"Output #22: FIRST PIECE:{0} SECOND PIECE:{1} THIRD PIECE:{2}\".format(string1_list2[0], string1_list2[1], string1_list2[2]))\n",
    "\n",
    "string2 = \"Your,dliverabe,is,due,in,june\"\n",
    "string2_list = string2.split(\",\")\n",
    "print(\"Output #23: {0}\".format(string2_list))\n",
    "print(\"Output #24: {0} {1} {2}\".format(string2_list[1],string2_list[5],string2_list[-1]))\n",
    "# list 에서 호출할 때 주의할 점은 0이 시작이고 -1이면 거꾸로 맨 마지막 함수를 가져온다는 점이다.\n",
    "# 위 함수에서는 5가 6번재 함수를 지칭 june이며, -1또한 0에서 거꾸로 가기 때문에 june을 가리킨다.\n",
    "\n",
    "print(\"Output #25: {0}\".format(','.join(string2_list)))\n",
    "# join 함수는 문자 리스트를 다시 합칠 수 있게 도와준다. ('기준'.join(변수))\n",
    "\n",
    "# strip 개행,공백, 탭 문자를 각각 왼쪽 끝, 오른쪽 끝, 양쪽 끝에서 삭제할 수 있도록 도와주는 함수\n",
    "# lstrip - 왼쪽 rstip - 오른쪽 strip 양쪽끝 strip()\n",
    "string3 = \" Remove Unwanted characters from this string.\\t\\t   \\n\"\n",
    "print(\"Output #26: string3: {0:s}\".format(string3))\n",
    "string3_lstrip = string3.lstrip()\n",
    "print(\"Output #27: string3: {0:s}\".format(string3_lstrip))\n",
    "string3_rstrip = string3.rstrip()\n",
    "print(\"Output #28: string3: {0:s}\".format(string3_rstrip))\n",
    "string3_strip = string3.strip()\n",
    "print(\"Output #29: string3: {0:s}\".format(string3_strip))\n",
    "\n",
    "# 특정 문자를 원하지 않을 때 쓰는 strip 함수\n",
    "# 변수.strip('원하지 않는 문자들') '' 혹은 \"\" 특이점은 한 번에 모아써도 된다는 것 ,를 안 넣는 이유는 아마도,도 처리해야 할 일이 생기기 때문인듯 함\n",
    "string4 = \"$$Here's another striong that has unwanted characters.__---++\"\n",
    "print(\"Output #30: {0:s}\".format(string4))\n",
    "string4 = \"$$The unwanted charactershave been removed.__---++\"\n",
    "string4_strip = string4.strip(\"$_-+\")\n",
    "print(\"Output #31: {0:s}\".format(string4_strip))\n",
    "\n",
    "# replace 하나의 문자 혹은 문자 집합을 다른 문자 혹은 다른 문자 집합으로 치환해주는 함수\n",
    "# 변수.replace(\"변화의 대상인 문자\",\"변화 후의 문자\")\n",
    "string5 = \"Let's replace the spaces in this sentnece wiht ohter characters.\"\n",
    "string5_replace = string5.replace(\" \",\"!@!\")\n",
    "print(\"Output #32: (with!@!):{0:s}\".format(string5_replace))\n",
    "string5_replace2 = string5.replace(\" \",\", \")\n",
    "print(\"Output #33: (with commas):{0:s}\".format(string5_replace2))\n",
    "\n",
    "# lower, upper, capitalize\n",
    "# lower - 모든 문자 소문자 / upper - 모든 문자 대문자 / capiltalize - 첫 문자 대문자 나머지 소문자\n",
    "# 변수.lower()\n",
    "string6 = \"Here's WHAT happens WHEN You Use lower\"\n",
    "print(\"Output #34: {0:s}\".format(string6.lower()))\n",
    "string7 = \"Here's what Happens when You use UPPER\"\n",
    "print(\"Output #35: {0:s}\".format(string7.upper()))\n",
    "string8 = \"here's what happens WHEN you use Capiltalize\"\n",
    "print(\"Output #36: {0:s}\".format(string8.capitalize()))\n",
    "string5_list = string5.split()\n",
    "print(\"Output #37 (on each word):\")\n",
    "for word in string5_list:\n",
    "    print(\"{0:s}\".format(word.capitalize()))\n",
    "\n",
    "\n",
    "# 문자열 내에 등장하는 패턴의 횟수를 세기\n",
    "# re.complie(찾을 패턴,패턴 조건) / compil은 필수가 아니나 텍스티 기반의 패턴을 정규표현식으로 컴파일 하는 것을 의미\n",
    "# re.complile로 정의내린 변수는 search, result 함수 등에서 사용가능하다.\n",
    "# 100% 이해가 안가지만 패스 - 다시 공부!\n",
    "string = \"The quick brown fox jumps over the lazy dog.\"\n",
    "string_list = string.split()\n",
    "pattern = re.compile(r\"The\",re.I)\n",
    "# r은 raw의 r The의 원형임을 표현 re.I는 대소문자 구별없는 조건\n",
    "count = 0\n",
    "for word in string_list:\n",
    "    if pattern.search(word):\n",
    "    # search 문은\n",
    "        count += 1\n",
    "print(\"Output #38: {0:d}\".format(count))\n",
    "\n",
    "# 문자열 내에서 발견된 패턴 출력하기\n",
    "string = \"The quick brown fox jumps over the lazy dog.\"\n",
    "string_list = string.split()\n",
    "pattern = re.compile(r\"(?P<match_word>The)\", re.I)\n",
    "# ?P<이름>찾을 패턴 - 찾을 패턴의 그룹 명을 지정하는 메타 문자\n",
    "print(\"Output #39:\")\n",
    "for word in string_list:\n",
    "    if pattern.search(word):\n",
    "        print(\"{:s}\".format(pattern.search(word).group('match_word')))\n",
    "        # group 함수가 사용된 예이며,search 뒤에 group이 붙으므로써 해당 패턴을 찾고 그 값을 출력할 수 있게 만든다.\n",
    "        # 즉 search만 있다면 단순히 검색만 한 상태이며, group이 붙어야 해당 값이 출력될 수 있는 값이 된다.\n",
    "\n",
    "# 문자열 내 \"a\"를 \"the\"로 대체하기\n",
    "string = \"The quick brown fox jumps over the lazy dog.\"\n",
    "string_to_find = r\"the\"\n",
    "pattern = re.compile(string_to_find, re.I)\n",
    "print(\"Output #40: {:s}\".format(pattern.sub(\"a\", string)))\n",
    "# 정규표현식.sub(\"변경 원하는 문자\",\"변수\")\n",
    "# 정규표현식에 다라서 변수에서 값을 찾을 찾아 변경을 원하는 문자로 변경하는 함수\n",
    "\n",
    "# 오늘 날짜와 년, 월, 일 요소들을 출력하기\n",
    "today = date.today()\n",
    "print(\"Output #41: today:{0}\".format(today))\n",
    "print(\"Output #42: {0!s}\".format(today.year))\n",
    "print(\"Output #43: {0!s}\".format(today.month))\n",
    "print(\"Output #44: {0!s}\".format(today.day))\n",
    "current_datetime = datetime.today()\n",
    "print(\"Output #45: {0!s}\".format(current_datetime))\n",
    "\n",
    "# date는 년,월,일,날짜만 , date time은 date + 시간을 갖는다.\n",
    "# 0 뒤에 있는 !s 는 0으로 나오는 내용이 숫자요도 문자로 처리하라는 의미이다.\n",
    "\n",
    "# timedelta 함수를 이용여 새로운 날짜 계산하기\n",
    "one_day = timedelta(days=-1)\n",
    "yesterday = today + one_day\n",
    "print(\"Output #46: yesterday: {0!s}\".format(yesterday))\n",
    "eight_hours = timedelta(hours=-8)\n",
    "print(\"Output #47: {0!s} {1!s}\".format(eight_hours.days, eight_hours.seconds))\n",
    "\n",
    "# 두 날짜 사이의 날짜 차이를 계산하기\n",
    "date_diff = today - yesterday\n",
    "print(\"Output #48: {0!s}\".format(date_diff))\n",
    "print(\"Output #49: {0!s}\".format(str(date_diff).split()[0]))\n",
    "# str은  결과를 하나의 문자열로 만든다. 문자열로 만든 것을 split하고 그 첫번 재 열을 출력하라는 코드다.\n",
    "\n",
    "# date 객체를 특정 형식의 문자열으로 만들기\n",
    "print(\"Output #50: {:s}\".format(today.strftime('%m/%d/%Y')))\n",
    "print(\"Output #51: {:s}\".format(today.strftime('%b %d, %Y')))\n",
    "print(\"Output #52: {:s}\".format(today.strftime('%Y-%m-%d')))\n",
    "print(\"Output #53: {:s}\".format(today.strftime('%B %d, %Y')))\n",
    "\n",
    "# 날짜 문자열로부터 특정 형식의 datetime 객체를 생성하기\n",
    "date1 = today.strftime('%m/%d/%Y')\n",
    "date2 = today.strftime('%b %d, %Y')\n",
    "date3 = today.strftime('%Y-%m-%d')\n",
    "date4 = today.strftime('%B %d, %Y')\n",
    "# 변수.strftime('출력을 원하는 표현방식')\n",
    "# strftime은 시간과 관련된 표현방식을 결정하는 함수\n",
    "# %m = 숫자 달(1,2) %d= 날짜 %Y=풀 년도(2017) %b = 달의 영어 약자(Jan Feb) %B= 달의 영어 풀네임(January  February)\n",
    "\n",
    "# 다른 date 형식을 지닌 4가지 문자열에 기반한\n",
    "# 각각 2종류의 datetime 객체들과 date 객체들\n",
    "print(\"Output #54: {!s})\".format(datetime.strptime(date1, '%m/%d/%Y')))\n",
    "print(\"Output #55: {!s})\".format(datetime.strptime(date2, '%b %d, %Y')))\n",
    "# (time.strptime(date_string, format)). / 시간 뒤에 포멧을 붙여줌으로써 다시 문장열로 된 시간을 날짜 형식으로 변경\n",
    "# 날짜 부분만 출력하기\n",
    "print(\"Output #56: {!s}\".format(datetime.date(datetime.strptime(date3, '%Y-%m-%d'))))\n",
    "print(\"Output #57: {!s}\".format(datetime.date(datetime.strptime(date4, '%B %d, %Y'))))\n",
    "# datetime.date(날짜 값)  날짜 값에서 날짜만 추출\n",
    "\n",
    "# 리스트 만들기\n",
    "# 리스트를 만들기 위해 대괄호를 사용한다.\n",
    "# len() 함수를 통해 리스트 내 원소의 수를 센다.\n",
    "# max() 함수와 min() 함수는 최대/최소값을 찾는다.\n",
    "# count() 함수는 리스트 내의 특정 값이 등장한 횟수\n",
    "a_list = [1, 2, 3]\n",
    "print(\"Output #58: {}\".format(a_list))\n",
    "print(\"Output #59: a_list has {} elements\".format(len(a_list)))\n",
    "print(\"Output #60: the maximum value in a_list is {}\".format(max(a_list)))\n",
    "print(\"Output #61: the minimum value in a_list is {}\".format(min(a_list)))\n",
    "another_list = ['printer', 5, ['star', 'circle', 9]]\n",
    "print(\"Output #62: {}\".format(another_list))\n",
    "print(\"Output #63: another_list also has {} elements\".format(len(another_list)))\n",
    "print(\"Output #64: 5 is in another_list {} time.\".format(another_list.count(5)))\n",
    "# count만 사용법이 좀 다름 변수.count(찾기를 원하는 값) - 해당 변수에서 해당 값이 나온 횟수\n",
    "\n",
    "# 리스트내 특정 원소에 접근하려면 인덱스 이용하기\n",
    "# [0]은 첫뻔재 원소이다. [-1]은 마지막 원소이다.\n",
    "print(\"Output #65: {}\".format(a_list[0]))\n",
    "print(\"Output #66: {}\".format(a_list[1]))\n",
    "print(\"Output #67: {}\".format(a_list[2]))\n",
    "print(\"Output #68: {}\".format(a_list[-1]))\n",
    "print(\"Output #69: {}\".format(a_list[-2]))\n",
    "print(\"Output #70: {}\".format(a_list[-3]))\n",
    "print(\"Output #71: {}\".format(another_list[2]))\n",
    "print(\"Output #72: {}\".format(another_list[-1]))\n",
    "\n",
    "# 리스트 분할하기 \n",
    "# 리스트 분할을 사용하여 리스트 원소들의 부분집합 만들기 \n",
    "# 맨 앞부터 분할하는 경우, 최초 인덱스를 생략한다. \n",
    "# 맨 뒤까지 리스트를 분할하는 경우, 마지막 인덱스를 생략한다. \n",
    "print(\"Output #73: {}\".format(a_list[0:2]))\n",
    "print(\"Output #74: {}\".format(another_list[:2]))\n",
    "print(\"Output #75: {}\".format(a_list[1:3]))\n",
    "print(\"Output #76: {}\".format(another_list[1:]))\n",
    "\n",
    "\n",
    "# [:]를 이용하여 리스트를 복사하기 \n",
    "a_new_list = a_list[:]\n",
    "print(\"Output #77: {}\".format(a_list[:]))\n",
    "\n",
    "# + 연산자를 이용하여  2개 이상의 리스트를 병합하기 \n",
    "a_longer_list = a_list + another_list\n",
    "print(\"Output #78: {}\".format(a_longer_list))\n",
    "\n",
    "# in과 not in을 이용하여 특정 원소의 리스트 내 포함 여부를 확인하기 \n",
    "a = 2 in a_list\n",
    "print(\"Output #79: {}\".format(a))\n",
    "\n",
    "if 2 in a_list:\n",
    "  print(\"Output #80: 2 is in {}\".format(a_list))\n",
    "\n",
    "\n",
    "b = 6 not in a_list\n",
    "if 6 not in a_list:\n",
    "  print(\"Output #81: 6 is not in{}\".format(a_list))\n",
    "  \n",
    "\n",
    "# append() 함수를 이용하여 리스트이 마지막에 원소를 추가하기\n",
    "# remove() 함수를 이용하여 리스트 내 특정 원소를 제거하기\n",
    "# pop() 함수를 이용하여 리스트의 마지막 원소를 제거하기 \n",
    "\n",
    "a_list.append(4)\n",
    "a_list.append(5)\n",
    "a_list.append(6)\n",
    "print(\"Output #83: {}\".format(a_list))\n",
    "a_list.remove(5)\n",
    "print(\"Output #84: {}\".format(a_list))\n",
    "a_list.pop()\n",
    "a_list.pop()\n",
    "print(\"Output #85: {}\".format(a_list))\n",
    "\n",
    "# append(추가할 값) / remove(제거할 값) /  pop() - 뒤에서부터 순차적으로 제거\n",
    "\n",
    "# reverse()함수를 이용하여 리스트 반전하기\n",
    "# 해당 리스트 내에서(인플레이서) 변경이 일어나므로\n",
    "# 기존 리스트를 변경하지 않고 반전하려면 먼저 사본을 만들어둬야 한다. \n",
    "a_list.reverse()\n",
    "print(\"Output #86: {}\".format(a_list))\n",
    "a_list.reverse()\n",
    "print(\"Output #87: {}\".format(a_list))\n"
   ]
  },
  {
   "cell_type": "code",
   "execution_count": 3,
   "metadata": {},
   "outputs": [
    {
     "name": "stdout",
     "output_type": "stream",
     "text": [
      "Output #88: [3, 5, 1, 7, 2, 8, 4, 9, 0, 6]\n"
     ]
    }
   ],
   "source": [
    "# sort() 함수를 이용하여 리스트를 인플레이스로 정렬하기 \n",
    "# 이는 리스트가 변경된다는 것을 의미한다.\n",
    "# 기존 리스트의 변경 없이 리스트를 정렬하려면, 우선 사본을 만든다\n",
    "\n",
    "unordered_list = [3, 5, 1, 7, 2, 8, 4, 9, 0, 6]\n",
    "print(\"Output #88: {}\".format(unordered_list))"
   ]
  },
  {
   "cell_type": "code",
   "execution_count": 12,
   "metadata": {},
   "outputs": [
    {
     "name": "stdout",
     "output_type": "stream",
     "text": [
      "Output #89: [3, 5, 1, 7, 2, 8, 4, 9, 0, 6]\n",
      "Output #90: [3, 5, 1, 7, 2, 8, 4, 9, 0, 6]\n"
     ]
    }
   ],
   "source": [
    "list_copy = unordered_list[:]\n",
    "print(\"Output #89: {}\".format(list_copy))\n",
    "print(\"Output #90: {}\".format(unordered_list))\n",
    "# sort 함수는 어떻게 적용하는 걸까 - 추가 공부"
   ]
  },
  {
   "cell_type": "code",
   "execution_count": 8,
   "metadata": {},
   "outputs": [
    {
     "name": "stdout",
     "output_type": "stream",
     "text": [
      "Output #91: [[4, 3, 2, 1], [2, 4, 1, 3], [1, 2, 3, 4]]\n"
     ]
    }
   ],
   "source": [
    "# sorted() 함수를 이용하여 리스트들의 특정 위치에 따라 리스트 정렬하기 \n",
    "my_lists = [[1,2,3,4], [4,3,2,1], [2,4,1,3]]\n",
    "my_lists_sorted_by_index_3 = sorted(my_lists, key=lambda index_value: index_value[3])\n",
    "print(\"Output #91: {}\".format(my_lists_sorted_by_index_3))\n",
    "\n",
    "# sotrted(변수, key = \"조건\") lambda는 특정 index 값에 따른 배열 혹은 다른 조건들에 따라서 배열할 수 있게 도와주는 key 값인듯\n",
    "# index_value: index_value [index 값] 는 index 값에 따라서 정렬하라는 뜻 "
   ]
  },
  {
   "cell_type": "code",
   "execution_count": 21,
   "metadata": {},
   "outputs": [
    {
     "name": "stdout",
     "output_type": "stream",
     "text": [
      "Output #92: [[22, 6, 6, 44], [123, 2, 2, 244], [461, 1, 1, 290], [578, 1, 1, 290], [236, 5, 5, 678], [354, 4, 4, 678]]\n"
     ]
    }
   ],
   "source": [
    "# itemgetter() 함수를 이용하여 2개 인덱스 위치에 따라 리스트 정렬하기\n",
    "my_lists = [[123,2,2,244], [22,6,6,44], [354,4,4,678], [236,5,5,678], [578,1,1,290], [461,1,1,290]]\n",
    "my_lists_sorted_by_index_3_and_0 = sorted(my_lists, key= itemgetter(3,0))\n",
    "print(\"Output #92: {}\".format(my_lists_sorted_by_index_3_and_0))\n",
    "# itmegetter는 모듈로 저장된 함수로 itemgetter (\"1인덱스 값\",\"2인덱스 값)로 \n",
    "# 지정된 값에 따라서 1번 인덱스값으로 정렬후 동일 값이 있을 경우 2번 인덱스 값으로 정렬"
   ]
  },
  {
   "cell_type": "code",
   "execution_count": 5,
   "metadata": {},
   "outputs": [
    {
     "name": "stdout",
     "output_type": "stream",
     "text": [
      "Output #93:('x', 'y', 'z')\n",
      "Output #94: my tuple has 3 elements\n",
      "Output #95: y\n",
      "Output #96: ('x', 'y', 'z', 'x', 'y', 'z')\n",
      "Output #97: x y z\n",
      "Output #98: red robin \n",
      "Output #99: robin red \n"
     ]
    }
   ],
   "source": [
    "# 괄호를 사용하여 튜플을 생성하기\n",
    "my_tuple = ('x', 'y', 'z')\n",
    "print(\"Output #93:{}\".format(my_tuple))\n",
    "print(\"Output #94: my tuple has {} elements\".format(len(my_tuple)))\n",
    "print(\"Output #95: {}\".format(my_tuple[1]))\n",
    "longer_tuple = my_tuple + my_tuple\n",
    "print(\"Output #96: {}\".format(longer_tuple))\n",
    "\n",
    "# 해당 연산자(=)의 왼편에 튜플을 풀기 \n",
    "one, two, three = my_tuple \n",
    "print(\"Output #97: {0} {1} {2}\".format(one, two, three))\n",
    "var1 = 'red'\n",
    "var2 = 'robin'\n",
    "print(\"Output #98: {} {} \".format(var1,var2))\n",
    "#변수간 값 교환하기 \n",
    "var1, var2 = var2 , var1 \n",
    "print(\"Output #99: {} {} \".format(var1, var2))\n"
   ]
  },
  {
   "cell_type": "code",
   "execution_count": 6,
   "metadata": {},
   "outputs": [
    {
     "name": "stdout",
     "output_type": "stream",
     "text": [
      "Output #100: (1, 2, 3)\n",
      "Output #101: ['x', 'y', 'z']\n"
     ]
    }
   ],
   "source": [
    "my_list = [1, 2, 3]\n",
    "my_tuple = ['x', 'y', 'z']\n",
    "print(\"Output #100: {}\".format(tuple(my_list)))\n",
    "print(\"Output #101: {}\".format(list(my_tuple)))\n",
    "\n",
    "# tuple(변수) - 해당 변수를 튜플 형식으로 변경\n",
    "# list(변수) - 해당 변수를 리스트 형식으로 변경 "
   ]
  },
  {
   "cell_type": "code",
   "execution_count": 9,
   "metadata": {},
   "outputs": [
    {
     "name": "stdout",
     "output_type": "stream",
     "text": [
      "Output #102: {'one': 1, 'two': 2, 'three': 3}\n",
      "Output #103: a_dict has 3 elements\n",
      "Output #104: {'x': 'printer', 'y': 5, 'z': ['star', 'cricle', 9]}\n",
      "Output #105: another_dict also has 3 elements\n"
     ]
    }
   ],
   "source": [
    "# 중괄호를 이용하여 딕셔너리 생성하기 \n",
    "# 각 쌍의 키와 값 사이에 콜론을 사용한다.\n",
    "# len() 함수는 딕셔널이에  있는 키 - 값 쌍의 수를 센다. \n",
    "empty_dict = { }\n",
    "a_dict = {'one':1, 'two':2, 'three':3}\n",
    "print(\"Output #102: {}\".format(a_dict))\n",
    "print(\"Output #103: a_dict has {!s} elements\".format(len(a_dict)))\n",
    "another_dict = {'x':'printer', 'y': 5, 'z':['star', 'cricle', 9]}\n",
    "print(\"Output #104: {}\".format(another_dict))\n",
    "print(\"Output #105: another_dict also has {!s} elements\".format(len(another_dict)))"
   ]
  },
  {
   "cell_type": "code",
   "execution_count": 11,
   "metadata": {},
   "outputs": [
    {
     "name": "stdout",
     "output_type": "stream",
     "text": [
      "Output #106: 2\n",
      "Output #107: ['star', 'cricle', 9]\n"
     ]
    }
   ],
   "source": [
    "#  키를 이용하여 딕셔너리 내 특정 값에 접근하기\n",
    "print(\"Output #106: {}\".format(a_dict['two']))\n",
    "print(\"Output #107: {}\".format(another_dict['z']))"
   ]
  },
  {
   "cell_type": "code",
   "execution_count": 21,
   "metadata": {},
   "outputs": [
    {
     "name": "stdout",
     "output_type": "stream",
     "text": [
      "Output #108: {'one': 1, 'two': 2, 'three': 3}\n"
     ]
    }
   ],
   "source": [
    "# copy () 함수를 이용하여 딕셔너리 사본 만들기 \n",
    "a_new_dict = a_dict.copy()\n",
    "print(\"Output #108: {}\".format(a_new_dict))\n",
    "# 딕셔너리 변수.copy() = 동일 값의 딕셔너리 생성 / 리스트와 튜플도 이 함수를 쓸 수 있을까? - 기억이 안난다면 아래 값을 실행해보자 \n",
    "# a_list = [1,2]\n",
    "# a_list_copy = a_list.copy()\n",
    "# print(a_list_copy)\n",
    "# a_tuple = (1,2,3)\n",
    "# a_tuple_copy = a_tuple.copy()\n",
    "# print(a_tuple_copy)"
   ]
  },
  {
   "cell_type": "code",
   "execution_count": 19,
   "metadata": {},
   "outputs": [
    {
     "name": "stdout",
     "output_type": "stream",
     "text": [
      "Output #109: dict_keys(['one', 'two', 'three'])\n",
      "Output #111: dict_values([1, 2, 3])\n",
      "Output #112: dict_items([('one', 1), ('two', 2), ('three', 3)])\n"
     ]
    }
   ],
   "source": [
    "# 키, 값 , 아이템 \n",
    "# keys(), values(), itmes()를 사용하여 \n",
    "# 딕셔너리의 키, 값, 키-값 쌍에 접근하기\n",
    "print(\"Output #109: {}\".format(a_dict.keys()))\n",
    "print(\"Output #111: {}\".format(a_dict.values()))\n",
    "print(\"Output #112: {}\".format(a_dict.items()))"
   ]
  },
  {
   "cell_type": "code",
   "execution_count": 27,
   "metadata": {},
   "outputs": [
    {
     "name": "stdout",
     "output_type": "stream",
     "text": [
      "Output #114: y is a key in another_dict: dict_keys(['x', 'y', 'z'])\n",
      "Output #115: c is not a key in another_dict: dict_keys(['x', 'y', 'z'])\n",
      "Output #116: 3\n",
      "Output #117: None\n",
      "Output #118: Not in dict\n"
     ]
    }
   ],
   "source": [
    "if 'y' in another_dict:\n",
    "    print(\"Output #114: y is a key in another_dict: {}\".format(another_dict.keys()))\n",
    "if 'c' not in another_dict:\n",
    "    print(\"Output #115: c is not a key in another_dict: {}\".format(another_dict.keys()))\n",
    "print(\"Output #116: {!s}\".format(a_dict.get('three')))\n",
    "print(\"Output #117: {!s}\".format(a_dict.get('four')))\n",
    "print(\"Output #118: {!s}\".format(a_dict.get('four','Not in dict')))"
   ]
  },
  {
   "cell_type": "code",
   "execution_count": 23,
   "metadata": {},
   "outputs": [
    {
     "name": "stdout",
     "output_type": "stream",
     "text": [
      "Output #119: {'one': 1, 'two': 2, 'three': 3}\n",
      "Output #120(ordered by keys): [('one', 1), ('three', 3), ('two', 2)]\n",
      "Output #121(ordered by values): [('one', 1), ('two', 2), ('three', 3)]\n",
      "Output #121(ordered by values,descending): [('three', 3), ('two', 2), ('one', 1)]\n",
      "Output #122(ordered by values,ascending): [('one', 1), ('two', 2), ('three', 3)]\n"
     ]
    }
   ],
   "source": [
    "# sorted() 함수를 이용하여 딕셔너a리 정렬하기 \n",
    "# 원본 딕셔너리를 수정하지 않고 정렬하려면 먼저 사본을 만든다. \n",
    "a_dict = {'one':1, 'two':2, 'three':3}\n",
    "print(\"Output #119: {}\".format(a_dict))\n",
    "dict_copy = a_dict.copy()\n",
    "ordered_dict1 = sorted(dict_copy.items(), key=lambda item:item[0])\n",
    "print(\"Output #120(ordered by keys): {}\".format(ordered_dict1))\n",
    "# item 내의 첫 번째 값 즉, 키로 정렬  - 알파벳에 따라서 순서대로 나올 것이다 \n",
    "ordered_dict2 = sorted(dict_copy.items(), key=lambda item:item[1])\n",
    "print(\"Output #121(ordered by values): {}\".format(ordered_dict2))\n",
    "# item 내의 두 번째 값 즉, 값으로 정렬 - 숫자 순서대로 정렬 \n",
    "ordered_dict3 = sorted(dict_copy.items(), key=lambda x: x[1], reverse = True)\n",
    "print(\"Output #121(ordered by values,descending): {}\".format(ordered_dict3))\n",
    "ordered_dict4 = sorted(dict_copy.items(), key=lambda x: x[1], reverse = False)\n",
    "# 값이 여러 개일때 사용할듯 실험해보자\n",
    "print(\"Output #122(ordered by values,ascending): {}\".format(ordered_dict4))\n",
    "\n",
    "# 아래에 코드가 실현 될까 ? 안된 다면 왜 안될까?\n",
    "# b_dict = {'one':[1,2], 'two':[3,4], 'three':[5,6]}\n",
    "# b_dict_copy = b_dict.copy\n",
    "# print(b_dict)\n",
    "# orderd_b_dict = sorted(b_dict_copy.items(), key=lambda x: x[2], reverse =True)\n",
    "# pritn(order_b_dict)\n",
    "# 딕셔너리는 키:값 의 쌍으로 이루어진 자료형이라는 걸 기억하자"
   ]
  },
  {
   "cell_type": "code",
   "execution_count": 35,
   "metadata": {},
   "outputs": [
    {
     "name": "stdout",
     "output_type": "stream",
     "text": [
      "Output #124 2\n"
     ]
    }
   ],
   "source": [
    "# if- else문 \n",
    "x = 5\n",
    "if x> 4 or x != 9:\n",
    "    print(\"Output #124 {}\".format(x))\n",
    "else:\n",
    "    print(\"Output #124: x is not greater than 4\")\n"
   ]
  },
  {
   "cell_type": "code",
   "execution_count": 51,
   "metadata": {},
   "outputs": [
    {
     "name": "stdout",
     "output_type": "stream",
     "text": [
      "Output #125: x is equal or greter than six\n"
     ]
    }
   ],
   "source": [
    "# if-elif-else 문 \n",
    "x = 6\n",
    "if x>= 6:\n",
    "    print(\"Output #125: x is equal or greter than six\")\n",
    "elif x>4 and x == 5:\n",
    "    print(\"output #125: {}\".format(x*x))\n",
    "else:\n",
    "    print(\"Output #125: x is not greater than 4\")"
   ]
  },
  {
   "cell_type": "code",
   "execution_count": 72,
   "metadata": {},
   "outputs": [
    {
     "name": "stdout",
     "output_type": "stream",
     "text": [
      "Output #126:\n",
      "Jan\n",
      "Feb\n",
      "Mar\n",
      "Apr\n",
      "May\n",
      "Jun\n",
      "Jul\n",
      "Aug\n",
      "Sep\n",
      "Oct\n",
      "Nov\n",
      "Dec\n",
      "Output #127: (index value: name in list)\n",
      "0 : Annie\n",
      "1 : Betty\n",
      "2 : Claire\n",
      "3 : Dapne\n",
      "4 : Elie\n",
      "5 : Franchesca\n",
      "6 : Greta\n",
      "7 : Holly\n",
      "8 : Isabel\n",
      "9 : Jenny\n",
      "Output #128: (access elements in y with z's index values)\n",
      "Jan\n",
      "Jun\n",
      "Jul\n",
      "Ouptut: #129:\n",
      "x, printer\n",
      "y, 5\n",
      "z, ['star', 'cricle', 9]\n"
     ]
    }
   ],
   "source": [
    "y= ['Jan', 'Feb', 'Mar', 'Apr', 'May', 'Jun', 'Jul', 'Aug', 'Sep', 'Oct','Nov',\\\n",
    "   'Dec']\n",
    "z= ['Annie','Betty', 'Claire', 'Dapne','Elie',\\\n",
    "'Franchesca', 'Greta', 'Holly', 'Isabel', 'Jenny']\n",
    "\n",
    "print(\"Output #126:\")\n",
    "for month in y:\n",
    "    print(\"{!s}\".format(month))\n",
    "\n",
    "print(\"Output #127: (index value: name in list)\")\n",
    "for i in range(len(z)):\n",
    "    print(\"{0!s} : {1:s}\".format(i, z[i]))\n",
    "    \n",
    "print(\"Output #128: (access elements in y with z's index values)\")\n",
    "for j in range(len(z)):\n",
    "    if y[j].startswith('J'):\n",
    "        print(\"{!s}\".format(y[j]))\n",
    "another_dict = {'x':'printer', 'y': 5, 'z':['star', 'cricle', 9]}\n",
    "print(\"Ouptut: #129:\")\n",
    "for key, value in another_dict.items():\n",
    "    print(\"{0:s}, {1}\".format(key, value))\n",
    "# for 변수 in sequence\n"
   ]
  },
  {
   "cell_type": "code",
   "execution_count": 75,
   "metadata": {},
   "outputs": [
    {
     "name": "stdout",
     "output_type": "stream",
     "text": [
      "egoing\n",
      "leezche\n",
      "graphittie\n"
     ]
    }
   ],
   "source": [
    "# for 문이 이해가 잘 안간다면 아래 문장이 어떻게 실행되는지 살펴보자\n",
    "\n",
    "members = ['egoing', 'leezche', 'graphittie']\n",
    "for member in members:\n",
    "    print(member)\n",
    "    \n",
    "# memebers 라는 리스트안에 있는 값을 member라는 변수로 담았고 이 변수들을 실행해서 출력한 모습이다, \n",
    "# 즉 for \"값을 담을 변수\" in sequence - 리스트 ,튜플 등 의 값을 하나의 변수에 담아주며, 이를 하나씩 반복하는 일을 한다. "
   ]
  },
  {
   "cell_type": "code",
   "execution_count": 82,
   "metadata": {},
   "outputs": [
    {
     "name": "stdout",
     "output_type": "stream",
     "text": [
      "Output #130 (list comphrehension) : [[4, 5, 6], [7, 8, 9]]\n",
      "[4, 5, 6]\n",
      "[7, 8, 9]\n"
     ]
    }
   ],
   "source": [
    "# 리스트 축약을 이욯아여 특정 행을 고르기 \n",
    "\n",
    "my_data = [[1,2,3], [4,5,6], [7,8,9]]\n",
    "rows_to_keep = [row for row in my_data if row[2] > 5]\n",
    "print(\"Output #130 (list comphrehension) : {}\".format(rows_to_keep))\n",
    "# row라는 리스트를 만들고 그 로우라는 리스트 값에 my_data의 변수들을 동일한 형식으로 넣는다/ 조건에 따라서\n",
    "# 축약형태로 사용한 것이다. 저 변수를 for 문으로 변경하면\n",
    "for row in my_data:\n",
    "    if row[2] > 5:\n",
    "        print(row)\n",
    "#  이렇게 하면 위의 값을 동일하게 출력은 할 수 있으나, 여기서 다시 2개의 값을 리스트로 만드는 걸 해줘야 한다. "
   ]
  },
  {
   "cell_type": "code",
   "execution_count": 85,
   "metadata": {},
   "outputs": [
    {
     "name": "stdout",
     "output_type": "stream",
     "text": [
      "Ouptut #131  (set comprehension): {(4, 5, 6), (7, 8, 9), (1, 2, 3)}\n",
      "Ouptut #132  (set function): {(4, 5, 6), (7, 8, 9), (1, 2, 3)}\n"
     ]
    }
   ],
   "source": [
    "#  집합 축약을 이용하여 리스트의 고유한 튜플 집합을 고르기 \n",
    "my_data = [(1,2,3), (4,5,6), (7,8,9)]\n",
    "set_of_tuples1 = {x for x in my_data}\n",
    "print(\"Ouptut #131  (set comprehension): {}\".format(set_of_tuples1))\n",
    "set_of_tuples2 = set(my_data)\n",
    "print(\"Ouptut #132  (set function): {}\".format(set_of_tuples2))\n",
    "\n",
    "# set 함수가 x for x in my_data 를 대체함.... 완전 좋은듯!"
   ]
  },
  {
   "cell_type": "code",
   "execution_count": 87,
   "metadata": {},
   "outputs": [
    {
     "name": "stdout",
     "output_type": "stream",
     "text": [
      "Ouput #133 (dictionary comprehension): {'customer3': 11}\n"
     ]
    }
   ],
   "source": [
    "# 딕셔너리 축약을 이용하여 특정 키-값 쌍들을 고르기 \n",
    "my_dictionary = {'customer1': 7, 'customer2': 9, 'customer3': 11}\n",
    "my_results = {key : value for key, value in my_dictionary.items() if value > 10}\n",
    "print(\"Ouput #133 (dictionary comprehension): {}\".format(my_results))"
   ]
  },
  {
   "cell_type": "code",
   "execution_count": 90,
   "metadata": {},
   "outputs": [
    {
     "name": "stdout",
     "output_type": "stream",
     "text": [
      "Output #134: \n",
      "0\n",
      "1\n",
      "2\n",
      "3\n",
      "4\n",
      "5\n",
      "6\n",
      "7\n",
      "8\n",
      "9\n",
      "10\n"
     ]
    }
   ],
   "source": [
    "print(\"Output #134: \")\n",
    "x = 0 \n",
    "while x < 11 :\n",
    "    print(\"{!s}\".format(x))\n",
    "    x+=1"
   ]
  },
  {
   "cell_type": "code",
   "execution_count": 94,
   "metadata": {},
   "outputs": [
    {
     "name": "stdout",
     "output_type": "stream",
     "text": [
      "Output #135(mean): 5.0\n"
     ]
    }
   ],
   "source": [
    "# 숫자 시퀀스의 평균 계산하기 \n",
    "def getMean(numericValues):\n",
    "    return sum(numericValues)/len(numericValues) if len(numericValues) > 0\\\n",
    "    else float('nan')\n",
    "    \n",
    "my_list = [2, 2, 4, 4, 6, 6, 8, 8]\n",
    "print(\"Output #135(mean): {!s}\".format(getMean(my_list)))"
   ]
  },
  {
   "cell_type": "code",
   "execution_count": 7,
   "metadata": {},
   "outputs": [
    {
     "name": "stdout",
     "output_type": "stream",
     "text": [
      "Ouput #137(mean): 5.0\n"
     ]
    }
   ],
   "source": [
    "import numpy as np\n",
    "my_list = [2, 2, 4, 4, 6, 6, 8, 8]\n",
    "print(\"Ouput #137(mean): {!s}\".format(np.mean(my_list)))"
   ]
  },
  {
   "cell_type": "code",
   "execution_count": 5,
   "metadata": {},
   "outputs": [
    {
     "name": "stdout",
     "output_type": "stream",
     "text": [
      "Output#137 (Error):nan\n",
      "Output#137 (Error):division by zero\n",
      "Output #138(Error): nan\n",
      "Output #138(Error): division by zero\n",
      "Output #138(Finally):The Finally block is executed every time\n"
     ]
    }
   ],
   "source": [
    "# 숫자 시퀀스의 평균 계산하기\n",
    "def getMean(numericValues):\n",
    "    return sum(numericValues)/len(numericValues)\n",
    "\n",
    "\n",
    "my_list2 = [ ]\n",
    "\n",
    "# 짧은 버전 \n",
    "try: \n",
    "    print(\"Output#137: {}\".format(getMean(my_list2)))\n",
    "except ZeroDivisionError as detail:\n",
    "    print(\"Output#137 (Error):{}\".format(float('nan')))\n",
    "    print(\"Output#137 (Error):{}\".format(detail)) \n",
    "    \n",
    "# 긴 버전\n",
    "try: \n",
    "    result = getMean(my_list2)\n",
    "except ZeroDivisionError as detail:\n",
    "    print(\"Output #138(Error): {}\".format(float('nan')))\n",
    "    print(\"Output #138(Error): {}\".format(detail))\n",
    "else: \n",
    "    print(\"Output #138(The mean is): {}\".format(result))\n",
    "finally:\n",
    "    print(\"Output #138(Finally):The Finally block is executed every time\" )"
   ]
  },
  {
   "cell_type": "code",
   "execution_count": 12,
   "metadata": {},
   "outputs": [
    {
     "name": "stdout",
     "output_type": "stream",
     "text": [
      "Output #139: \n"
     ]
    },
    {
     "ename": "FileNotFoundError",
     "evalue": "[Errno 2] No such file or directory: '-f'",
     "output_type": "error",
     "traceback": [
      "\u001b[1;31m---------------------------------------------------------------------------\u001b[0m",
      "\u001b[1;31mFileNotFoundError\u001b[0m                         Traceback (most recent call last)",
      "\u001b[1;32m<ipython-input-12-780fe00011d3>\u001b[0m in \u001b[0;36m<module>\u001b[1;34m()\u001b[0m\n\u001b[0;32m      6\u001b[0m \u001b[0mprint\u001b[0m\u001b[1;33m(\u001b[0m\u001b[1;34m\"Output #139: \"\u001b[0m\u001b[1;33m)\u001b[0m\u001b[1;33m\u001b[0m\u001b[0m\n\u001b[0;32m      7\u001b[0m \u001b[0minput_file\u001b[0m  \u001b[1;33m=\u001b[0m \u001b[0msys\u001b[0m\u001b[1;33m.\u001b[0m\u001b[0margv\u001b[0m\u001b[1;33m[\u001b[0m\u001b[1;36m1\u001b[0m\u001b[1;33m]\u001b[0m\u001b[1;33m\u001b[0m\u001b[0m\n\u001b[1;32m----> 8\u001b[1;33m \u001b[0mfilereader\u001b[0m \u001b[1;33m=\u001b[0m \u001b[0mopen\u001b[0m\u001b[1;33m(\u001b[0m\u001b[0minput_file\u001b[0m\u001b[1;33m,\u001b[0m \u001b[1;34m'r'\u001b[0m\u001b[1;33m)\u001b[0m\u001b[1;33m\u001b[0m\u001b[0m\n\u001b[0m\u001b[0;32m      9\u001b[0m \u001b[1;32mfor\u001b[0m \u001b[0mrow\u001b[0m \u001b[1;32min\u001b[0m \u001b[0mfilereader\u001b[0m\u001b[1;33m:\u001b[0m\u001b[1;33m\u001b[0m\u001b[0m\n\u001b[0;32m     10\u001b[0m     \u001b[0mprint\u001b[0m\u001b[1;33m(\u001b[0m\u001b[0mrow\u001b[0m\u001b[1;33m.\u001b[0m\u001b[0mstrip\u001b[0m\u001b[1;33m(\u001b[0m\u001b[1;33m)\u001b[0m\u001b[1;33m)\u001b[0m\u001b[1;33m\u001b[0m\u001b[0m\n",
      "\u001b[1;31mFileNotFoundError\u001b[0m: [Errno 2] No such file or directory: '-f'"
     ]
    }
   ],
   "source": [
    "# 파일 읽기  - 파일 읽기는 따로 파일을 만들어서 진행했다 first_script_read.py를 참고하자\n",
    "#  하나의 텍스트 파일 읽기\n",
    "# 과거방식 -  더 길다 .\n",
    "# sys의 개념에 대해서 잘 이해해야 한다. sys.argv[1] 이 무엇을 가져오는 건지 공부해야 한다. 다음에 공부하기 \n",
    "\n",
    "print(\"Output #139: \")\n",
    "input_file  = sys.argv[1]\n",
    "filereader = open(input_file, 'r')\n",
    "for row in filereader:\n",
    "    print(row.strip())\n",
    "filereader.close()\n",
    "\n",
    "# 로컬 컴퓨터에서 실행 완료 "
   ]
  },
  {
   "cell_type": "code",
   "execution_count": 9,
   "metadata": {},
   "outputs": [
    {
     "name": "stdout",
     "output_type": "stream",
     "text": [
      "Output #140:\n"
     ]
    },
    {
     "ename": "FileNotFoundError",
     "evalue": "[Errno 2] No such file or directory: '-f'",
     "output_type": "error",
     "traceback": [
      "\u001b[1;31m---------------------------------------------------------------------------\u001b[0m",
      "\u001b[1;31mFileNotFoundError\u001b[0m                         Traceback (most recent call last)",
      "\u001b[1;32m<ipython-input-9-7707cd660c0a>\u001b[0m in \u001b[0;36m<module>\u001b[1;34m()\u001b[0m\n\u001b[0;32m      2\u001b[0m \u001b[0minput_file\u001b[0m \u001b[1;33m=\u001b[0m \u001b[0msys\u001b[0m\u001b[1;33m.\u001b[0m\u001b[0margv\u001b[0m\u001b[1;33m[\u001b[0m\u001b[1;36m1\u001b[0m\u001b[1;33m]\u001b[0m\u001b[1;33m\u001b[0m\u001b[0m\n\u001b[0;32m      3\u001b[0m \u001b[0mprint\u001b[0m\u001b[1;33m(\u001b[0m\u001b[1;34m\"Output #140:\"\u001b[0m\u001b[1;33m)\u001b[0m\u001b[1;33m\u001b[0m\u001b[0m\n\u001b[1;32m----> 4\u001b[1;33m \u001b[1;32mwith\u001b[0m \u001b[0mopen\u001b[0m\u001b[1;33m(\u001b[0m\u001b[0minput_file\u001b[0m\u001b[1;33m,\u001b[0m \u001b[1;34m'r'\u001b[0m\u001b[1;33m,\u001b[0m \u001b[0mnewline\u001b[0m\u001b[1;33m=\u001b[0m\u001b[1;34m''\u001b[0m\u001b[1;33m)\u001b[0m \u001b[1;32mas\u001b[0m \u001b[0mfilereader\u001b[0m\u001b[1;33m:\u001b[0m\u001b[1;33m\u001b[0m\u001b[0m\n\u001b[0m\u001b[0;32m      5\u001b[0m     \u001b[1;32mfor\u001b[0m \u001b[0mrow\u001b[0m \u001b[1;32min\u001b[0m \u001b[0mfilereader\u001b[0m\u001b[1;33m:\u001b[0m\u001b[1;33m\u001b[0m\u001b[0m\n\u001b[0;32m      6\u001b[0m         \u001b[0mprint\u001b[0m\u001b[1;33m(\u001b[0m\u001b[1;34m\"{}\"\u001b[0m\u001b[1;33m.\u001b[0m\u001b[0mformat\u001b[0m\u001b[1;33m(\u001b[0m\u001b[0mrow\u001b[0m\u001b[1;33m.\u001b[0m\u001b[0mstrip\u001b[0m\u001b[1;33m(\u001b[0m\u001b[1;33m)\u001b[0m\u001b[1;33m)\u001b[0m\u001b[1;33m)\u001b[0m\u001b[1;33m\u001b[0m\u001b[0m\n",
      "\u001b[1;31mFileNotFoundError\u001b[0m: [Errno 2] No such file or directory: '-f'"
     ]
    }
   ],
   "source": [
    "# 현재의 방식 - 더짧다\n",
    "input_file = sys.argv[1]\n",
    "print(\"Output #140:\")\n",
    "with open(input_file, 'r', newline='') as filereader:\n",
    "    for row in filereader:\n",
    "        print(\"{}\".format(row.strip()))\n",
    "# 위랑 동일한 값이 나오는 걸 확인 할 수 있다."
   ]
  },
  {
   "cell_type": "code",
   "execution_count": 4,
   "metadata": {},
   "outputs": [
    {
     "name": "stdout",
     "output_type": "stream",
     "text": [
      "Output #141:\n"
     ]
    }
   ],
   "source": [
    "import sys\n",
    "import glob\n",
    "import os \n",
    "\n",
    "print(\"Output #141:\")\n",
    "inputPath = sys.argv[1]\n",
    "for input_file in glob.glob(os.path.join(inputPath,'*.txt')):\n",
    "    with open(input_file, 'r', newline='') as filereader:\n",
    "        for row in filereader:\n",
    "             print(\"{}\".format(row.strip()))\n",
    "                   \n",
    "#파일의 위치를 가장 정확하게 보는 방법은 파일을 오른쪽 마우스 클릭한 후 파일 위치보기를 하는 것 "
   ]
  },
  {
   "cell_type": "code",
   "execution_count": 4,
   "metadata": {},
   "outputs": [
    {
     "name": "stdout",
     "output_type": "stream",
     "text": [
      "Output #142: Ouput written to file\n"
     ]
    }
   ],
   "source": [
    "import sys\n",
    "# 파일 작성하기 \n",
    "# 하나의 텍스트 파일 작성하기\n",
    "my_letters = ['a', 'b', 'c', 'd', 'e', 'f', 'g', 'h', 'i', 'j']\n",
    "max_index = len(my_letters)\n",
    "output_file = sys.argv[1]\n",
    "filewriter = open(output_file, 'w')\n",
    "for index_value in range(len(my_letters)):\n",
    "    if index_value < (max_index-1):\n",
    "        filewriter.write(my_letters[index_value]+'\\t')\n",
    "    else:\n",
    "        filewriter.write(my_letters[index_value]+'\\n')\n",
    "filewriter.close()\n",
    "print(\"Output #142: Ouput written to file\")"
   ]
  },
  {
   "cell_type": "code",
   "execution_count": 3,
   "metadata": {},
   "outputs": [
    {
     "name": "stdout",
     "output_type": "stream",
     "text": [
      "Output #143: Ouput appended to file\n"
     ]
    }
   ],
   "source": [
    "# CSV 파일 작성하기\n",
    "my_numbers = [0, 1, 2, 3, 4, 5, 6, 7, 8, 9]\n",
    "max_index = len(my_numbers)\n",
    "output_file = sys.argv[1]\n",
    "filewriter = open(output_file, 'a')\n",
    "for index_value in range(len(my_numbers)):\n",
    "    if index_value < (max_index-1):\n",
    "        filewriter.write (str(my_numbers[index_value])+',')\n",
    "    else:\n",
    "        filewriter.write(str(my_numbers[index_value])+'\\n')\n",
    "filewriter.close()\n",
    "print(\"Output #143: Ouput appended to file\")\n"
   ]
  },
  {
   "cell_type": "code",
   "execution_count": null,
   "metadata": {
    "collapsed": true
   },
   "outputs": [],
   "source": []
  }
 ],
 "metadata": {
  "kernelspec": {
   "display_name": "Python 3",
   "language": "python",
   "name": "python3"
  },
  "language_info": {
   "codemirror_mode": {
    "name": "ipython",
    "version": 3
   },
   "file_extension": ".py",
   "mimetype": "text/x-python",
   "name": "python",
   "nbconvert_exporter": "python",
   "pygments_lexer": "ipython3",
   "version": "3.6.3"
  }
 },
 "nbformat": 4,
 "nbformat_minor": 2
}
