{
 "cells": [
  {
   "cell_type": "code",
   "execution_count": 1,
   "metadata": {
    "collapsed": true
   },
   "outputs": [],
   "source": [
    "import csv\n",
    "import glob\n",
    "import os"
   ]
  },
  {
   "cell_type": "code",
   "execution_count": 2,
   "metadata": {
    "collapsed": true
   },
   "outputs": [],
   "source": [
    "input_path = 'C:/Users/8percent/Desktop'\n",
    "# /여기서 디렉토리는 /으로 한다. 왜그런지 모르겟지만 ㅠ\n",
    "output_file = \"./10output.csv\""
   ]
  },
  {
   "cell_type": "raw",
   "metadata": {},
   "source": []
  },
  {
   "cell_type": "code",
   "execution_count": 8,
   "metadata": {},
   "outputs": [
    {
     "data": {
      "text/plain": [
       "37"
      ]
     },
     "execution_count": 8,
     "metadata": {},
     "output_type": "execute_result"
    }
   ],
   "source": [
    "output_header_list = ['file_name', 'total_sales', 'average_sales']\n",
    "\n",
    "csv_out_file = open(output_file, 'a', newline='')\n",
    "filewriter = csv.writer(csv_out_file)\n",
    "filewriter.writerow(output_header_list) "
   ]
  },
  {
   "cell_type": "code",
   "execution_count": 9,
   "metadata": {},
   "outputs": [],
   "source": [
    "for input_file in glob.glob(os.path.join(input_path,'sales_*')):\n",
    "    with open(input_file, 'r', newline = '') as csv_in_file: \n",
    "        filereader = csv.reader(csv_in_file)\n",
    "        output_list = [ ]\n",
    "        output_list.append(os.path.basename(input_file))\n",
    "        header = next(filereader)\n",
    "        total_sales = 0.0 \n",
    "        number_of_sales = 0.0 \n",
    "        for row in filereader: \n",
    "            sale_amount = row[3]\n",
    "            total_sales += float(str(sale_amount).strip('$').replace(',',''))\n",
    "            number_of_sales += 1.0 \n",
    "        average_sales = '{0:.2f}'.format(total_sales/ number_of_sales)\n",
    "        output_list.append(total_sales)\n",
    "        output_list.append(average_sales)\n",
    "        filewriter.writerow(output_list)\n",
    "csv_out_file.close()"
   ]
  },
  {
   "cell_type": "code",
   "execution_count": null,
   "metadata": {
    "collapsed": true
   },
   "outputs": [],
   "source": []
  }
 ],
 "metadata": {
  "kernelspec": {
   "display_name": "Python 3",
   "language": "python",
   "name": "python3"
  },
  "language_info": {
   "codemirror_mode": {
    "name": "ipython",
    "version": 3
   },
   "file_extension": ".py",
   "mimetype": "text/x-python",
   "name": "python",
   "nbconvert_exporter": "python",
   "pygments_lexer": "ipython3",
   "version": "3.6.3"
  }
 },
 "nbformat": 4,
 "nbformat_minor": 2
}
